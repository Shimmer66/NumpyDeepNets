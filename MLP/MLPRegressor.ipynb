{
 "cells": [
  {
   "cell_type": "code",
   "source": [
    "import numpy as np\n",
    "import pandas as pd\n",
    "import matplotlib.pyplot as plt\n",
    "%matplotlib inline\n",
    "import pickle"
   ],
   "metadata": {
    "collapsed": false,
    "ExecuteTime": {
     "end_time": "2024-05-26T10:10:36.425914Z",
     "start_time": "2024-05-26T10:10:34.687239Z"
    }
   },
   "id": "8396c7407557ba33",
   "execution_count": 1,
   "outputs": []
  },
  {
   "cell_type": "code",
   "source": [
    "# 激活函数及其导数\n",
    "def relu(x):\n",
    "    return np.maximum(0, x)\n",
    "\n",
    "\n",
    "def relu_derivative(x):\n",
    "    return np.where(x > 0, 1, 0)\n",
    "\n",
    "\n",
    "# 多分类\n",
    "def softmax(x):\n",
    "    exps = np.exp(x - np.max(x, axis=1, keepdims=True))\n",
    "    return exps / np.sum(exps, axis=1, keepdims=True)\n",
    "\n",
    "\n",
    "# 均方误差损失函数及其导数\n",
    "def mean_squared_error(y_true, y_pred):\n",
    "    return np.mean((y_true - y_pred) ** 2)\n",
    "\n",
    "\n",
    "def mean_squared_error_derivative(y_true, y_pred):\n",
    "    return 2 * (y_pred - y_true) / y_true.size\n",
    "\n",
    "\n",
    "# 损失函数及其导数\n",
    "def cross_entropy_loss(y_true, y_pred):\n",
    "    loss = -np.mean(np.sum(y_true * np.log(y_pred + 1e-15), axis=1))\n",
    "    return loss\n",
    "\n",
    "\n",
    "def cross_entropy_loss_derivative(y_true, y_pred):\n",
    "    return y_pred - y_true\n",
    "\n",
    "\n",
    "# MLP类定义\n",
    "class MLP:\n",
    "    def __init__(self, input_size, hidden_size1, hidden_size2, output_size):\n",
    "        self.input_size = input_size\n",
    "        self.hidden_size1 = hidden_size1\n",
    "        self.hidden_size2 = hidden_size2\n",
    "        self.output_size = output_size\n",
    "\n",
    "        # 初始化权重和偏置\n",
    "        self.W1 = np.random.randn(input_size, hidden_size1) * 0.01\n",
    "        self.b1 = np.zeros((1, hidden_size1))\n",
    "        self.W2 = np.random.randn(hidden_size1, hidden_size2) * 0.01\n",
    "        self.b2 = np.zeros((1, hidden_size2))\n",
    "        self.W3 = np.random.randn(hidden_size2, output_size) * 0.01\n",
    "        self.b3 = np.zeros((1, output_size))\n",
    "\n",
    "    def forward(self, X):\n",
    "        # 前向传播\n",
    "        self.z1 = np.dot(X, self.W1) + self.b1\n",
    "        self.a1 = relu(self.z1)\n",
    "        self.z2 = np.dot(self.a1, self.W2) + self.b2\n",
    "        self.a2 = relu(self.z2)\n",
    "        self.z3 = np.dot(self.a2, self.W3) + self.b3\n",
    "        self.a3 = softmax(self.z3)  # 输出层使用Softmax激活函数\n",
    "        return self.a3\n",
    "\n",
    "    def backward(self, X, y, learning_rate):\n",
    "        # 反向传播\n",
    "        m = X.shape[0]  # 使用输入样本数\n",
    "        # print(f\"m:{m}\")\n",
    "\n",
    "        # 计算输出层的梯度\n",
    "        d_loss_a3 = cross_entropy_loss_derivative(y, self.a3)\n",
    "\n",
    "        # 计算第三层的梯度\n",
    "        d_loss_W3 = np.dot(self.a2.T, d_loss_a3) / m\n",
    "        d_loss_b3 = np.sum(d_loss_a3, axis=0, keepdims=True) / m\n",
    "\n",
    "        # 计算第二层的梯度\n",
    "        d_loss_a2 = np.dot(d_loss_a3, self.W3.T)\n",
    "        d_loss_z2 = d_loss_a2 * relu_derivative(self.z2)\n",
    "        d_loss_W2 = np.dot(self.a1.T, d_loss_z2) / m\n",
    "        d_loss_b2 = np.sum(d_loss_z2, axis=0, keepdims=True) / m\n",
    "\n",
    "        # 计算第一层的梯度\n",
    "        d_loss_a1 = np.dot(d_loss_z2, self.W2.T)\n",
    "        d_loss_z1 = d_loss_a1 * relu_derivative(self.z1)\n",
    "        d_loss_W1 = np.dot(X.T, d_loss_z1) / m\n",
    "        d_loss_b1 = np.sum(d_loss_z1, axis=0, keepdims=True) / m\n",
    "\n",
    "        # 更新权重和偏置\n",
    "        self.W3 -= learning_rate * d_loss_W3\n",
    "        self.b3 -= learning_rate * d_loss_b3\n",
    "        self.W2 -= learning_rate * d_loss_W2\n",
    "        self.b2 -= learning_rate * d_loss_b2\n",
    "        self.W1 -= learning_rate * d_loss_W1\n",
    "        self.b1 -= learning_rate * d_loss_b1\n",
    "\n",
    "    def train(self, X, y, epochs, learning_rate):\n",
    "        for epoch in range(epochs):\n",
    "            output = self.forward(X)\n",
    "            loss = cross_entropy_loss(y, output)\n",
    "            self.backward(X, y, learning_rate)\n",
    "            if epoch % 100 == 0:\n",
    "                print(f'Epoch {epoch}, Loss: {loss}')\n",
    "\n",
    "    def predict(self, X):\n",
    "        output = self.forward(X)\n",
    "        return np.argmax(output, axis=1)\n",
    "\n",
    "    def accuracy(self, X, y):\n",
    "        y_predicted=self.forward(X)\n",
    "        predictions = np.argmax(y_predicted, axis=1)\n",
    "        labels = np.argmax(y, axis=1)\n",
    "        return np.mean(predictions == labels)\n",
    "    \n",
    "    \n",
    "    \n",
    "    def save_weights(self, file_path):\n",
    "        weights = {\n",
    "            'W1': self.W1,\n",
    "            'b1': self.b1,\n",
    "            'W2': self.W2,\n",
    "            'b2': self.b2,\n",
    "            'W3': self.W3,\n",
    "            'b3': self.b3\n",
    "        }\n",
    "        with open(file_path, 'wb') as file:\n",
    "            pickle.dump(weights, file)\n",
    "\n",
    "    def load_weights(self, file_path):\n",
    "        with open(file_path, 'rb') as file:\n",
    "            weights = pickle.load(file)\n",
    "            self.W1 = weights['W1']\n",
    "            self.b1 = weights['b1']\n",
    "            self.W2 = weights['W2']\n",
    "            self.b2 = weights['b2']\n",
    "            self.W3 = weights['W3']\n",
    "            self.b3 = weights['b3']"
   ],
   "metadata": {
    "collapsed": false,
    "ExecuteTime": {
     "end_time": "2024-05-26T10:10:36.458904Z",
     "start_time": "2024-05-26T10:10:36.428893Z"
    }
   },
   "id": "ddb587b476d2838d",
   "execution_count": 2,
   "outputs": []
  },
  {
   "cell_type": "code",
   "source": [
    "from sklearn.model_selection import train_test_split\n",
    "from sklearn.preprocessing import StandardScaler\n",
    "\n",
    "\n",
    "def load_california_data(datafile='./data/housing.csv'):\n",
    "    def load_and_inspect_data(datafile):\n",
    "        data = pd.read_csv(datafile, sep=',')\n",
    "        print(\"原始数据形状:\", data.shape)\n",
    "        print(\"原始数据头部:\\n\", data.head(), \"\\n\")\n",
    "        return data\n",
    "\n",
    "    def clean_data(data):\n",
    "        data = data.drop([\"longitude\", \"ocean_proximity\"], axis=1)\n",
    "        print(\"数据信息:\\n\", data.info(), \"\\n\")\n",
    "        print(\"数据描述统计量:\\n\", data.describe(), \"\\n\")\n",
    "        null_counts = data.isnull().sum()\n",
    "        print(\"缺失值统计:\\n\", null_counts, \"\\n\")\n",
    "        data = data.dropna()\n",
    "        print(f\"删除缺失值后的数据形状: {data.shape}\\n\")\n",
    "        return data\n",
    "\n",
    "    def preprocess_features_and_labels(data):\n",
    "        X = data.drop([\"median_house_value\"], axis=1).values\n",
    "        y = data[\"median_house_value\"].values\n",
    "        scaler = StandardScaler()\n",
    "        X = scaler.fit_transform(X)\n",
    "        return X, y\n",
    "\n",
    "    def split_data(X, y):\n",
    "        train_X, test_X, train_y, test_y = train_test_split(X, y, test_size=0.2, random_state=42)\n",
    "        print(\"训练集特征形状:\", train_X.shape)\n",
    "        print(\"测试集特征形状:\", test_X.shape)\n",
    "        print(\"训练集标签形状:\", train_y.shape)\n",
    "        print(\"测试集标签形状:\", test_y.shape)\n",
    "        return train_X, test_X, train_y, test_y\n",
    "\n",
    "    data = load_and_inspect_data(datafile)\n",
    "    data = clean_data(data)\n",
    "    X, y = preprocess_features_and_labels(data)\n",
    "    train_X, test_X, train_y, test_y = split_data(X, y)\n",
    "\n",
    "    return train_X, test_X, train_y, test_y"
   ],
   "metadata": {
    "collapsed": false,
    "ExecuteTime": {
     "end_time": "2024-05-26T10:10:37.431788Z",
     "start_time": "2024-05-26T10:10:36.460832Z"
    }
   },
   "id": "e55a30ad94c995e",
   "execution_count": 3,
   "outputs": []
  },
  {
   "cell_type": "code",
   "source": [
    "train_X, test_X, train_y, test_y = load_california_data()"
   ],
   "metadata": {
    "collapsed": false,
    "ExecuteTime": {
     "end_time": "2024-05-26T10:10:37.529721Z",
     "start_time": "2024-05-26T10:10:37.433781Z"
    }
   },
   "id": "3d9cd80324e55dd6",
   "execution_count": 4,
   "outputs": []
  },
  {
   "cell_type": "code",
   "source": [
    "# 示例用法\n",
    "if __name__ == \"__main__\":\n",
    "    \n",
    "    # 创建MLP模型\n",
    "    mlp = MLP(input_size=7, hidden_size1=64, hidden_size2=32, output_size=1)\n",
    "    #\n",
    "    # # 训练MLP模型\n",
    "    mlp.train(train_X, train_y, epochs=1000, learning_rate=0.2)\n",
    "    #\n",
    "    # 保存训练后的权重\n",
    "    mlp.save_weights('./data/mlp_weights.pkl')\n",
    "    # 评估模型\n",
    "    train_accuracy = mlp.accuracy(train_X,train_y)\n",
    "\n",
    "    print(f'Train Accuracy: {train_accuracy * 100:.2f}%')\n",
    "\n"
   ],
   "metadata": {
    "collapsed": true,
    "ExecuteTime": {
     "end_time": "2024-05-19T06:22:47.632018Z",
     "start_time": "2024-05-19T06:06:15.729715Z"
    }
   },
   "id": "initial_id",
   "execution_count": 36,
   "outputs": []
  },
  {
   "cell_type": "code",
   "source": [
    "\n",
    "import numpy as np\n",
    "\n",
    "import pandas as pd\n",
    "from sklearn.preprocessing import StandardScaler\n",
    "\n",
    "\n",
    "def load_california_data(datafile):\n",
    "    \"\"\"\n",
    "    加载并预处理加州房价数据集。\n",
    "\n",
    "    参数:\n",
    "    datafile (str): 包含数据集的CSV文件的路径。\n",
    "\n",
    "    返回:\n",
    "    tuple: 标准化后的特征矩阵X和目标向量y。\n",
    "    \"\"\"\n",
    "    try:\n",
    "        # 读取CSV文件\n",
    "        data = pd.read_csv(datafile, sep=',')\n",
    "\n",
    "        # 删除无关列\n",
    "        data = data.drop([\"longitude\", \"ocean_proximity\"], axis=1)\n",
    "\n",
    "        # 填充缺失值\n",
    "        data[\"total_bedrooms\"].fillna(data[\"total_bedrooms\"].median(), inplace=True)\n",
    "\n",
    "        # 分离特征和目标\n",
    "        X = data.drop([\"median_house_value\"], axis=1).values\n",
    "        y = data[\"median_house_value\"].values\n",
    "\n",
    "        # 标准化特征\n",
    "        scaler = StandardScaler()\n",
    "        X = scaler.fit_transform(X)\n",
    "\n",
    "        return X, y\n",
    "\n",
    "    except Exception as e:\n",
    "        print(f\"处理文件 {datafile} 时发生错误: {e}\")"
   ],
   "metadata": {
    "collapsed": false,
    "ExecuteTime": {
     "end_time": "2024-05-31T08:41:19.637Z",
     "start_time": "2024-05-31T08:41:17.860871Z"
    }
   },
   "id": "532fab2647fdbda8",
   "execution_count": 1,
   "outputs": []
  },
  {
   "cell_type": "code",
   "source": [
    "datafile = \"./data/housing.csv\"\n",
    "X, y = load_california_data(datafile)"
   ],
   "metadata": {
    "collapsed": false,
    "ExecuteTime": {
     "end_time": "2024-05-31T08:42:29.003873Z",
     "start_time": "2024-05-31T08:42:28.968062Z"
    }
   },
   "id": "aeb894bd191dc95a",
   "execution_count": 3,
   "outputs": []
  },
  {
   "cell_type": "code",
   "source": [
    "X"
   ],
   "metadata": {
    "collapsed": false,
    "ExecuteTime": {
     "end_time": "2024-05-31T08:43:13.431065Z",
     "start_time": "2024-05-31T08:43:13.424063Z"
    }
   },
   "id": "99ee0ba9f08cbd12",
   "execution_count": 7,
   "outputs": []
  },
  {
   "cell_type": "code",
   "source": [
    "y"
   ],
   "metadata": {
    "collapsed": false,
    "ExecuteTime": {
     "end_time": "2024-05-31T08:43:20.571680Z",
     "start_time": "2024-05-31T08:43:20.566681Z"
    }
   },
   "id": "5d87c002faada827",
   "execution_count": 8,
   "outputs": []
  },
  {
   "cell_type": "code",
   "source": [],
   "metadata": {
    "collapsed": false
   },
   "id": "e0a3e1416ea84a97",
   "execution_count": null,
   "outputs": []
  }
 ],
 "metadata": {
  "kernelspec": {
   "display_name": "Python 3",
   "language": "python",
   "name": "python3"
  },
  "language_info": {
   "codemirror_mode": {
    "name": "ipython",
    "version": 2
   },
   "file_extension": ".py",
   "mimetype": "text/x-python",
   "name": "python",
   "nbconvert_exporter": "python",
   "pygments_lexer": "ipython2",
   "version": "2.7.6"
  }
 },
 "nbformat": 4,
 "nbformat_minor": 5
}
