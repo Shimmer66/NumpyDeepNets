{
 "cells": [
  {
   "cell_type": "code",
   "source": [
    "import numpy as np\n",
    "%matplotlib inline\n",
    "import pickle\n",
    "import os\n"
   ],
   "metadata": {
    "collapsed": false,
    "ExecuteTime": {
     "end_time": "2024-06-04T09:07:12.109060Z",
     "start_time": "2024-06-04T09:07:12.098060Z"
    }
   },
   "id": "8396c7407557ba33",
   "execution_count": 17,
   "outputs": []
  },
  {
   "cell_type": "code",
   "source": [
    "from matplotlib import pyplot as plt\n",
    "\n",
    "\n",
    "# 激活函数及其导数\n",
    "def relu(x):\n",
    "    return np.maximum(0, x)\n",
    "\n",
    "\n",
    "def relu_derivative(x):\n",
    "    return np.where(x > 0, 1, 0)\n",
    "\n",
    "\n",
    "# 均方误差损失函数及其导数\n",
    "def mean_squared_error(y_true, y_pred):\n",
    "    return np.mean((y_true - y_pred) ** 2)\n",
    "\n",
    "\n",
    "def mean_squared_error_derivative(y_true, y_pred):\n",
    "    return 2 * (y_pred - y_true) / y_true.size\n",
    "\n",
    "\n",
    "# MLP类定义\n",
    "class MLPRegressor:\n",
    "    def __init__(self, input_size, hidden_size1, hidden_size2, output_size, learning_rate, l2_reg=0.01, batch_size=32):\n",
    "        self.input_size = input_size\n",
    "        self.hidden_size1 = hidden_size1\n",
    "        self.hidden_size2 = hidden_size2\n",
    "        self.output_size = output_size\n",
    "        self.learning_rate = learning_rate\n",
    "        self.l2_reg = l2_reg\n",
    "        self.batch_size = batch_size\n",
    "        # Xavier/Glorot初始化\n",
    "        self.W1 = np.random.randn(input_size, hidden_size1) * np.sqrt(1. / input_size)\n",
    "        self.W2 = np.random.randn(hidden_size1, hidden_size2) * np.sqrt(1. / hidden_size1)\n",
    "        self.W3 = np.random.randn(hidden_size2, output_size) * np.sqrt(1. / hidden_size2)\n",
    "        self.b1 = np.ones((1, hidden_size1)) * 0.01\n",
    "        self.b2 = np.ones((1, hidden_size2)) * 0.01\n",
    "        self.b3 = np.ones((1, output_size)) * 0.01\n",
    "\n",
    "    def forward(self, X):\n",
    "        # 前向传播\n",
    "        self.z1 = np.dot(X, self.W1) + self.b1\n",
    "        self.a1 = relu(self.z1)\n",
    "        self.z2 = np.dot(self.a1, self.W2) + self.b2\n",
    "        self.a2 = relu(self.z2)\n",
    "        self.z3 = np.dot(self.a2, self.W3) + self.b3\n",
    "        self.a3 = self.z3  # 输出层\n",
    "        return self.a3\n",
    "\n",
    "    def backward(self, X, y):\n",
    "        m = X.shape[0]  # 当前批量的样本数\n",
    "        y = y.reshape(-1, 1)\n",
    "        # 计算输出层的梯度\n",
    "        d_loss_a3 = self.a3 - y\n",
    "\n",
    "        # 计算第三层的梯度  \n",
    "        d_loss_W3 = np.dot(self.a2.T, d_loss_a3) / m + self.l2_reg * self.W3\n",
    "        d_loss_b3 = np.sum(d_loss_a3, axis=0, keepdims=True) / m\n",
    "\n",
    "        # 计算第二层的梯度\n",
    "        d_loss_z2 = np.dot(d_loss_a3, self.W3.T) * relu_derivative(self.z2)\n",
    "        d_loss_W2 = np.dot(self.a1.T, d_loss_z2) / m + self.l2_reg * self.W2\n",
    "        d_loss_b2 = np.sum(d_loss_z2, axis=0, keepdims=True) / m\n",
    "\n",
    "        # 计算第一层的梯度\n",
    "        d_loss_z1 = np.dot(d_loss_z2, self.W2.T) * relu_derivative(self.z1)\n",
    "        d_loss_W1 = np.dot(X.T, d_loss_z1) / m + self.l2_reg * self.W1\n",
    "        d_loss_b1 = np.sum(d_loss_z1, axis=0, keepdims=True) / m\n",
    "\n",
    "        # 更新权重和偏置\n",
    "        self.W3 -= self.learning_rate * d_loss_W3\n",
    "        self.b3 -= self.learning_rate * d_loss_b3\n",
    "        self.W2 -= self.learning_rate * d_loss_W2\n",
    "        self.b2 -= self.learning_rate * d_loss_b2\n",
    "        self.W1 -= self.learning_rate * d_loss_W1\n",
    "        self.b1 -= self.learning_rate * d_loss_b1\n",
    "\n",
    "    def train(self, X, y, epochs):\n",
    "        n_samples = X.shape[0]\n",
    "        losses=[]\n",
    "        for epoch in range(1, epochs + 1):\n",
    "            # 随机打乱数据\n",
    "            indices = np.arange(n_samples)\n",
    "            np.random.shuffle(indices)\n",
    "            X = X[indices]\n",
    "            y = y[indices]\n",
    "\n",
    "            # 小批量梯度下降\n",
    "            for i in range(0, n_samples, self.batch_size):\n",
    "                end = i + self.batch_size\n",
    "                if end > n_samples:\n",
    "                    end = n_samples\n",
    "                X_batch = X[i:end]\n",
    "                y_batch = y[i:end]\n",
    "                output = self.forward(X_batch)\n",
    "                loss = mean_squared_error(y_batch, output)\n",
    "                losses.append(loss)  # 添加损失值到列表\n",
    "                self.backward(X_batch, y_batch)\n",
    "\n",
    "            if epoch % 100 == 0 or epoch == 1 or epoch == epochs:\n",
    "                output = self.forward(X)\n",
    "                loss = mean_squared_error(y, output)\n",
    "                losses.append(loss)  # 添加损失值到列表\n",
    "                print(f'Epoch {epoch}, Loss: {loss :.4f}')\n",
    "                \n",
    "        # 绘制损失曲线\n",
    "        plt.plot(range(1, epochs + 1), losses, label='Loss')\n",
    "        plt.xlabel('Epochs')\n",
    "        plt.ylabel('Loss')\n",
    "        plt.title('Loss Curve')\n",
    "        plt.legend()\n",
    "        plt.show()\n",
    "\n",
    "    def predict(self, X):\n",
    "        output = self.forward(X)\n",
    "        return output\n",
    "\n",
    "    def save_weights(self, file_path):\n",
    "        weights = {\n",
    "            'W1': self.W1,\n",
    "            'b1': self.b1,\n",
    "            'W2': self.W2,\n",
    "            'b2': self.b2,\n",
    "            'W3': self.W3,\n",
    "            'b3': self.b3\n",
    "        }\n",
    "        # 获取文件目录\n",
    "        directory = os.path.dirname(file_path)\n",
    "        # 如果目录不存在，则创建目录\n",
    "        if not os.path.exists(directory):\n",
    "            os.makedirs(directory)\n",
    "        # 保存权重\n",
    "        with open(file_path, 'wb') as file:\n",
    "            pickle.dump(weights, file)\n",
    "\n",
    "    def load_weights(self, file_path):\n",
    "        with open(file_path, 'rb') as file:\n",
    "            weights = pickle.load(file)\n",
    "            self.W1 = weights['W1']\n",
    "            self.b1 = weights['b1']\n",
    "            self.W2 = weights['W2']\n",
    "            self.b2 = weights['b2']\n",
    "            self.W3 = weights['W3']\n",
    "            self.b3 = weights['b3']\n",
    "\n",
    "    def r2_score(self, y, output):\n",
    "        # Calculate the total sum of squares (proportional to the variance of the data)\n",
    "        total_sum_of_squares = np.sum((y - np.mean(y)) ** 2)\n",
    "\n",
    "        # Calculate the residual sum of squares\n",
    "        residual_sum_of_squares = np.sum((y - output) ** 2)\n",
    "\n",
    "        # Handle edge case where total_sum_of_squares is zero\n",
    "        if total_sum_of_squares == 0:\n",
    "            raise ValueError(\"The total sum of squares is zero, which may indicate that all true values are identical.\")\n",
    "\n",
    "        # Calculate R^2 score\n",
    "        r2 = 1 - (residual_sum_of_squares / total_sum_of_squares)\n",
    "\n",
    "        return r2\n"
   ],
   "metadata": {
    "collapsed": false,
    "ExecuteTime": {
     "end_time": "2024-06-04T09:07:12.140454Z",
     "start_time": "2024-06-04T09:07:12.113064Z"
    }
   },
   "id": "ddb587b476d2838d",
   "execution_count": 18,
   "outputs": []
  },
  {
   "cell_type": "code",
   "outputs": [],
   "source": [
    "from sklearn.model_selection import train_test_split\n",
    "from sklearn.preprocessing import StandardScaler\n",
    "from sklearn.datasets import fetch_california_housing\n",
    "\n",
    "# 加载加州房价数据集\n",
    "housing = fetch_california_housing()\n",
    "X, y = housing.data, housing.target\n",
    "\n",
    "# 将数据分割成训练集和测试集\n",
    "X_train, X_test, y_train, y_test = train_test_split(X, y, test_size=0.5, random_state=42)\n",
    "\n",
    "# 标准化特征数据\n",
    "scaler = StandardScaler()\n",
    "X_train_scaled = scaler.fit_transform(X_train)\n",
    "X_test_scaled = scaler.transform(X_test)"
   ],
   "metadata": {
    "collapsed": false,
    "ExecuteTime": {
     "end_time": "2024-06-04T09:07:12.170455Z",
     "start_time": "2024-06-04T09:07:12.143455Z"
    }
   },
   "id": "1bd5e7030477dc17",
   "execution_count": 19
  },
  {
   "cell_type": "code",
   "source": [
    "# 创建MLP模型\n",
    "mlp = MLPRegressor(input_size=X_train_scaled.shape[1], hidden_size1=1024, hidden_size2=512, output_size=1,\n",
    "                   learning_rate=0.0001)\n",
    "# 训练MLP模型\n",
    "mlp.train(X_train_scaled, y_train, epochs=500)\n",
    "#\n",
    "# 保存训练后的权重\n",
    "mlp.save_weights('./weight/mlpregressor_weights.pkl')"
   ],
   "metadata": {
    "collapsed": true,
    "ExecuteTime": {
     "end_time": "2024-06-04T09:51:27.017341Z",
     "start_time": "2024-06-04T09:07:12.172456Z"
    }
   },
   "id": "initial_id",
   "execution_count": 20,
   "outputs": [
    {
     "name": "stdout",
     "output_type": "stream",
     "text": [
      "Epoch 1, Loss: 2.0721\n",
      "Epoch 100, Loss: 2.2921\n",
      "Epoch 200, Loss: 2.2876\n",
      "Epoch 300, Loss: 2.2751\n",
      "Epoch 400, Loss: 2.2811\n",
      "Epoch 500, Loss: 2.2781\n"
     ]
    },
    {
     "ename": "ValueError",
     "evalue": "x and y must have same first dimension, but have shapes (500,) and (161506,)",
     "output_type": "error",
     "traceback": [
      "\u001B[1;31m---------------------------------------------------------------------------\u001B[0m",
      "\u001B[1;31mValueError\u001B[0m                                Traceback (most recent call last)",
      "\u001B[1;32m~\\AppData\\Local\\Temp\\ipykernel_13856\\3171957117.py\u001B[0m in \u001B[0;36m<module>\u001B[1;34m\u001B[0m\n\u001B[0;32m      3\u001B[0m                    learning_rate=0.0001)\n\u001B[0;32m      4\u001B[0m \u001B[1;31m# 训练MLP模型\u001B[0m\u001B[1;33m\u001B[0m\u001B[1;33m\u001B[0m\u001B[1;33m\u001B[0m\u001B[0m\n\u001B[1;32m----> 5\u001B[1;33m \u001B[0mmlp\u001B[0m\u001B[1;33m.\u001B[0m\u001B[0mtrain\u001B[0m\u001B[1;33m(\u001B[0m\u001B[0mX_train_scaled\u001B[0m\u001B[1;33m,\u001B[0m \u001B[0my_train\u001B[0m\u001B[1;33m,\u001B[0m \u001B[0mepochs\u001B[0m\u001B[1;33m=\u001B[0m\u001B[1;36m500\u001B[0m\u001B[1;33m)\u001B[0m\u001B[1;33m\u001B[0m\u001B[1;33m\u001B[0m\u001B[0m\n\u001B[0m\u001B[0;32m      6\u001B[0m \u001B[1;31m#\u001B[0m\u001B[1;33m\u001B[0m\u001B[1;33m\u001B[0m\u001B[1;33m\u001B[0m\u001B[0m\n\u001B[0;32m      7\u001B[0m \u001B[1;31m# 保存训练后的权重\u001B[0m\u001B[1;33m\u001B[0m\u001B[1;33m\u001B[0m\u001B[1;33m\u001B[0m\u001B[0m\n",
      "\u001B[1;32m~\\AppData\\Local\\Temp\\ipykernel_13856\\1236584457.py\u001B[0m in \u001B[0;36mtrain\u001B[1;34m(self, X, y, epochs)\u001B[0m\n\u001B[0;32m    105\u001B[0m \u001B[1;33m\u001B[0m\u001B[0m\n\u001B[0;32m    106\u001B[0m         \u001B[1;31m# 绘制损失曲线\u001B[0m\u001B[1;33m\u001B[0m\u001B[1;33m\u001B[0m\u001B[1;33m\u001B[0m\u001B[0m\n\u001B[1;32m--> 107\u001B[1;33m         \u001B[0mplt\u001B[0m\u001B[1;33m.\u001B[0m\u001B[0mplot\u001B[0m\u001B[1;33m(\u001B[0m\u001B[0mrange\u001B[0m\u001B[1;33m(\u001B[0m\u001B[1;36m1\u001B[0m\u001B[1;33m,\u001B[0m \u001B[0mepochs\u001B[0m \u001B[1;33m+\u001B[0m \u001B[1;36m1\u001B[0m\u001B[1;33m)\u001B[0m\u001B[1;33m,\u001B[0m \u001B[0mlosses\u001B[0m\u001B[1;33m,\u001B[0m \u001B[0mlabel\u001B[0m\u001B[1;33m=\u001B[0m\u001B[1;34m'Loss'\u001B[0m\u001B[1;33m)\u001B[0m\u001B[1;33m\u001B[0m\u001B[1;33m\u001B[0m\u001B[0m\n\u001B[0m\u001B[0;32m    108\u001B[0m         \u001B[0mplt\u001B[0m\u001B[1;33m.\u001B[0m\u001B[0mxlabel\u001B[0m\u001B[1;33m(\u001B[0m\u001B[1;34m'Epochs'\u001B[0m\u001B[1;33m)\u001B[0m\u001B[1;33m\u001B[0m\u001B[1;33m\u001B[0m\u001B[0m\n\u001B[0;32m    109\u001B[0m         \u001B[0mplt\u001B[0m\u001B[1;33m.\u001B[0m\u001B[0mylabel\u001B[0m\u001B[1;33m(\u001B[0m\u001B[1;34m'Loss'\u001B[0m\u001B[1;33m)\u001B[0m\u001B[1;33m\u001B[0m\u001B[1;33m\u001B[0m\u001B[0m\n",
      "\u001B[1;32mE:\\Code\\miniconda3\\envs\\py37\\lib\\site-packages\\matplotlib\\pyplot.py\u001B[0m in \u001B[0;36mplot\u001B[1;34m(scalex, scaley, data, *args, **kwargs)\u001B[0m\n\u001B[0;32m   2767\u001B[0m     return gca().plot(\n\u001B[0;32m   2768\u001B[0m         \u001B[1;33m*\u001B[0m\u001B[0margs\u001B[0m\u001B[1;33m,\u001B[0m \u001B[0mscalex\u001B[0m\u001B[1;33m=\u001B[0m\u001B[0mscalex\u001B[0m\u001B[1;33m,\u001B[0m \u001B[0mscaley\u001B[0m\u001B[1;33m=\u001B[0m\u001B[0mscaley\u001B[0m\u001B[1;33m,\u001B[0m\u001B[1;33m\u001B[0m\u001B[1;33m\u001B[0m\u001B[0m\n\u001B[1;32m-> 2769\u001B[1;33m         **({\"data\": data} if data is not None else {}), **kwargs)\n\u001B[0m\u001B[0;32m   2770\u001B[0m \u001B[1;33m\u001B[0m\u001B[0m\n\u001B[0;32m   2771\u001B[0m \u001B[1;33m\u001B[0m\u001B[0m\n",
      "\u001B[1;32mE:\\Code\\miniconda3\\envs\\py37\\lib\\site-packages\\matplotlib\\axes\\_axes.py\u001B[0m in \u001B[0;36mplot\u001B[1;34m(self, scalex, scaley, data, *args, **kwargs)\u001B[0m\n\u001B[0;32m   1633\u001B[0m         \"\"\"\n\u001B[0;32m   1634\u001B[0m         \u001B[0mkwargs\u001B[0m \u001B[1;33m=\u001B[0m \u001B[0mcbook\u001B[0m\u001B[1;33m.\u001B[0m\u001B[0mnormalize_kwargs\u001B[0m\u001B[1;33m(\u001B[0m\u001B[0mkwargs\u001B[0m\u001B[1;33m,\u001B[0m \u001B[0mmlines\u001B[0m\u001B[1;33m.\u001B[0m\u001B[0mLine2D\u001B[0m\u001B[1;33m)\u001B[0m\u001B[1;33m\u001B[0m\u001B[1;33m\u001B[0m\u001B[0m\n\u001B[1;32m-> 1635\u001B[1;33m         \u001B[0mlines\u001B[0m \u001B[1;33m=\u001B[0m \u001B[1;33m[\u001B[0m\u001B[1;33m*\u001B[0m\u001B[0mself\u001B[0m\u001B[1;33m.\u001B[0m\u001B[0m_get_lines\u001B[0m\u001B[1;33m(\u001B[0m\u001B[1;33m*\u001B[0m\u001B[0margs\u001B[0m\u001B[1;33m,\u001B[0m \u001B[0mdata\u001B[0m\u001B[1;33m=\u001B[0m\u001B[0mdata\u001B[0m\u001B[1;33m,\u001B[0m \u001B[1;33m**\u001B[0m\u001B[0mkwargs\u001B[0m\u001B[1;33m)\u001B[0m\u001B[1;33m]\u001B[0m\u001B[1;33m\u001B[0m\u001B[1;33m\u001B[0m\u001B[0m\n\u001B[0m\u001B[0;32m   1636\u001B[0m         \u001B[1;32mfor\u001B[0m \u001B[0mline\u001B[0m \u001B[1;32min\u001B[0m \u001B[0mlines\u001B[0m\u001B[1;33m:\u001B[0m\u001B[1;33m\u001B[0m\u001B[1;33m\u001B[0m\u001B[0m\n\u001B[0;32m   1637\u001B[0m             \u001B[0mself\u001B[0m\u001B[1;33m.\u001B[0m\u001B[0madd_line\u001B[0m\u001B[1;33m(\u001B[0m\u001B[0mline\u001B[0m\u001B[1;33m)\u001B[0m\u001B[1;33m\u001B[0m\u001B[1;33m\u001B[0m\u001B[0m\n",
      "\u001B[1;32mE:\\Code\\miniconda3\\envs\\py37\\lib\\site-packages\\matplotlib\\axes\\_base.py\u001B[0m in \u001B[0;36m__call__\u001B[1;34m(self, data, *args, **kwargs)\u001B[0m\n\u001B[0;32m    310\u001B[0m                 \u001B[0mthis\u001B[0m \u001B[1;33m+=\u001B[0m \u001B[0margs\u001B[0m\u001B[1;33m[\u001B[0m\u001B[1;36m0\u001B[0m\u001B[1;33m]\u001B[0m\u001B[1;33m,\u001B[0m\u001B[1;33m\u001B[0m\u001B[1;33m\u001B[0m\u001B[0m\n\u001B[0;32m    311\u001B[0m                 \u001B[0margs\u001B[0m \u001B[1;33m=\u001B[0m \u001B[0margs\u001B[0m\u001B[1;33m[\u001B[0m\u001B[1;36m1\u001B[0m\u001B[1;33m:\u001B[0m\u001B[1;33m]\u001B[0m\u001B[1;33m\u001B[0m\u001B[1;33m\u001B[0m\u001B[0m\n\u001B[1;32m--> 312\u001B[1;33m             \u001B[1;32myield\u001B[0m \u001B[1;32mfrom\u001B[0m \u001B[0mself\u001B[0m\u001B[1;33m.\u001B[0m\u001B[0m_plot_args\u001B[0m\u001B[1;33m(\u001B[0m\u001B[0mthis\u001B[0m\u001B[1;33m,\u001B[0m \u001B[0mkwargs\u001B[0m\u001B[1;33m)\u001B[0m\u001B[1;33m\u001B[0m\u001B[1;33m\u001B[0m\u001B[0m\n\u001B[0m\u001B[0;32m    313\u001B[0m \u001B[1;33m\u001B[0m\u001B[0m\n\u001B[0;32m    314\u001B[0m     \u001B[1;32mdef\u001B[0m \u001B[0mget_next_color\u001B[0m\u001B[1;33m(\u001B[0m\u001B[0mself\u001B[0m\u001B[1;33m)\u001B[0m\u001B[1;33m:\u001B[0m\u001B[1;33m\u001B[0m\u001B[1;33m\u001B[0m\u001B[0m\n",
      "\u001B[1;32mE:\\Code\\miniconda3\\envs\\py37\\lib\\site-packages\\matplotlib\\axes\\_base.py\u001B[0m in \u001B[0;36m_plot_args\u001B[1;34m(self, tup, kwargs, return_kwargs)\u001B[0m\n\u001B[0;32m    496\u001B[0m \u001B[1;33m\u001B[0m\u001B[0m\n\u001B[0;32m    497\u001B[0m         \u001B[1;32mif\u001B[0m \u001B[0mx\u001B[0m\u001B[1;33m.\u001B[0m\u001B[0mshape\u001B[0m\u001B[1;33m[\u001B[0m\u001B[1;36m0\u001B[0m\u001B[1;33m]\u001B[0m \u001B[1;33m!=\u001B[0m \u001B[0my\u001B[0m\u001B[1;33m.\u001B[0m\u001B[0mshape\u001B[0m\u001B[1;33m[\u001B[0m\u001B[1;36m0\u001B[0m\u001B[1;33m]\u001B[0m\u001B[1;33m:\u001B[0m\u001B[1;33m\u001B[0m\u001B[1;33m\u001B[0m\u001B[0m\n\u001B[1;32m--> 498\u001B[1;33m             raise ValueError(f\"x and y must have same first dimension, but \"\n\u001B[0m\u001B[0;32m    499\u001B[0m                              f\"have shapes {x.shape} and {y.shape}\")\n\u001B[0;32m    500\u001B[0m         \u001B[1;32mif\u001B[0m \u001B[0mx\u001B[0m\u001B[1;33m.\u001B[0m\u001B[0mndim\u001B[0m \u001B[1;33m>\u001B[0m \u001B[1;36m2\u001B[0m \u001B[1;32mor\u001B[0m \u001B[0my\u001B[0m\u001B[1;33m.\u001B[0m\u001B[0mndim\u001B[0m \u001B[1;33m>\u001B[0m \u001B[1;36m2\u001B[0m\u001B[1;33m:\u001B[0m\u001B[1;33m\u001B[0m\u001B[1;33m\u001B[0m\u001B[0m\n",
      "\u001B[1;31mValueError\u001B[0m: x and y must have same first dimension, but have shapes (500,) and (161506,)"
     ]
    },
    {
     "data": {
      "text/plain": "<Figure size 640x480 with 1 Axes>",
      "image/png": "[encoded data removed]"
     },
     "metadata": {},
     "output_type": "display_data"
    }
   ]
  },
  {
   "cell_type": "code",
   "outputs": [],
   "source": [
    "predicted_values = mlp.predict(X_test_scaled)\n",
    "# 输出结果\n",
    "print(\"Predicted values shape:\", predicted_values.shape)\n",
    "print(\"Sample predicted values:\", predicted_values[:5])  # 打印前5个预测值\n",
    "print(\"Sample target values:\", y_test[:5])  # 打印前5个真实目标值"
   ],
   "metadata": {
    "collapsed": false
   },
   "id": "6a71df63036a2f31",
   "execution_count": null
  },
  {
   "cell_type": "code",
   "outputs": [],
   "source": [],
   "metadata": {
    "collapsed": false,
    "ExecuteTime": {
     "start_time": "2024-06-04T09:51:27.020272Z"
    }
   },
   "id": "fb8f6e1b8803abdb",
   "execution_count": null
  }
 ],
 "metadata": {
  "kernelspec": {
   "display_name": "Python 3",
   "language": "python",
   "name": "python3"
  },
  "language_info": {
   "codemirror_mode": {
    "name": "ipython",
    "version": 2
   },
   "file_extension": ".py",
   "mimetype": "text/x-python",
   "name": "python",
   "nbconvert_exporter": "python",
   "pygments_lexer": "ipython2",
   "version": "2.7.6"
  }
 },
 "nbformat": 4,
 "nbformat_minor": 5
}
